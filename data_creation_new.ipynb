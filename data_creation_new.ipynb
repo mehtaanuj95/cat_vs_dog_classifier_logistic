{
 "cells": [
  {
   "cell_type": "markdown",
   "metadata": {},
   "source": [
    "**Preparing our Train data**"
   ]
  },
  {
   "cell_type": "code",
   "execution_count": 1,
   "metadata": {},
   "outputs": [],
   "source": [
    "from random import shuffle\n",
    "import glob\n",
    "shuffle_data = True  # shuffle the addresses\n",
    "hdf5_path_train = 'cats_dogs_64_train.hdf5'  # file path for the created .hdf5 file\n",
    "hdf5_path_test = 'cats_dogs_64_test.hdf5'  # file path for the created .hdf5 file\n",
    "cat_dog_train_path = 'images/*.jpg' # the original data path\n",
    "\n",
    "# get all the image paths \n",
    "addrs = glob.glob(cat_dog_train_path)\n",
    "\n",
    "# label the data as 0=cat, 1=dog\n",
    "labels = [1 if 'cat' in addr else 0 for addr in addrs] \n",
    "\n",
    "# shuffle data\n",
    "if shuffle_data:\n",
    "    c = list(zip(addrs, labels)) # use zip() to bind the images and labels together\n",
    "    shuffle(c)\n",
    " \n",
    "    (addrs, labels) = zip(*c)  # *c is used to separate all the tuples in the list c,  \n",
    "                               # \"addrs\" then contains all the shuffled paths and \n",
    "        \n",
    "# Divide the data into 80% for train and 20% for test\n",
    "train_addrs = addrs[0:int(0.8*len(addrs))]\n",
    "train_labels = labels[0:int(0.8*len(labels))]\n",
    "\n",
    "test_addrs = addrs[int(0.8*len(addrs)):]\n",
    "test_labels = labels[int(0.8*len(labels)):]\n"
   ]
  },
  {
   "cell_type": "markdown",
   "metadata": {},
   "source": [
    "**creating the h5py object for train data**"
   ]
  },
  {
   "cell_type": "code",
   "execution_count": 2,
   "metadata": {},
   "outputs": [
    {
     "name": "stderr",
     "output_type": "stream",
     "text": [
      "C:\\Users\\I351539\\AppData\\Local\\Continuum\\anaconda3\\lib\\site-packages\\h5py\\__init__.py:36: FutureWarning: Conversion of the second argument of issubdtype from `float` to `np.floating` is deprecated. In future, it will be treated as `np.float64 == np.dtype(float).type`.\n",
      "  from ._conv import register_converters as _register_converters\n"
     ]
    }
   ],
   "source": [
    "import numpy as np\n",
    "import h5py\n",
    "\n",
    "train_shape = (len(train_addrs), 64, 64, 3)\n",
    "test_shape = (len(test_addrs), 64, 64, 3)\n",
    "\n",
    "# open a hdf5 file and create earrays \n",
    "f_train = h5py.File(hdf5_path_train, mode='w')\n",
    "f_test = h5py.File(hdf5_path_test, mode='w')\n",
    "\n",
    "# PIL.Image: the pixels range is 0-255,dtype is uint.\n",
    "# matplotlib: the pixels range is 0-1,dtype is float.\n",
    "f_train.create_dataset(\"train_img\", train_shape, np.uint8)\n",
    "\n",
    "# the \".create_dataset\" object is like a dictionary, the \"train_labels\" is the key. \n",
    "f_train.create_dataset(\"train_labels\", (len(train_addrs),), np.uint8)\n",
    "f_train[\"train_labels\"][...] = train_labels\n",
    "\n",
    "# PIL.Image: the pixels range is 0-255,dtype is uint.\n",
    "# matplotlib: the pixels range is 0-1,dtype is float.\n",
    "f_test.create_dataset(\"test_img\", test_shape, np.uint8)  \n",
    "\n",
    "# the \".create_dataset\" object is like a dictionary, the \"test_labels\" is the key. \n",
    "f_test.create_dataset(\"test_labels\", (len(test_addrs),), np.uint8)\n",
    "f_test[\"test_labels\"][...] = test_labels"
   ]
  },
  {
   "cell_type": "markdown",
   "metadata": {},
   "source": [
    "**Writing images for train data**"
   ]
  },
  {
   "cell_type": "code",
   "execution_count": 3,
   "metadata": {},
   "outputs": [],
   "source": [
    "import cv2\n",
    "\n",
    "# loop over train paths\n",
    "for i in range(len(train_addrs)):\n",
    "\n",
    "    addr_train = train_addrs[i]\n",
    "    img_train = cv2.imread(addr_train)\n",
    "    img_train = cv2.resize(img_train, (64, 64), interpolation=cv2.INTER_CUBIC)# resize to (128,128)\n",
    "    img_train = cv2.cvtColor(img_train, cv2.COLOR_BGR2RGB) # cv2 load images as BGR, convert it to RGB\n",
    "    f_train[\"train_img\"][i, ...] = img_train[None] \n",
    "\n",
    "# loop over test paths\n",
    "for j in range(len(test_addrs)):\n",
    "\n",
    "    addr_test = test_addrs[j]\n",
    "    img_test = cv2.imread(addr_test)\n",
    "    img_test = cv2.resize(img_test, (64, 64), interpolation=cv2.INTER_CUBIC)\n",
    "    img_test = cv2.cvtColor(img_test, cv2.COLOR_BGR2RGB)\n",
    "    f_test[\"test_img\"][j, ...] = img_test[None]\n",
    "\n",
    "f_train.close()\n",
    "f_test.close()"
   ]
  },
  {
   "cell_type": "code",
   "execution_count": null,
   "metadata": {},
   "outputs": [],
   "source": []
  },
  {
   "cell_type": "code",
   "execution_count": null,
   "metadata": {},
   "outputs": [],
   "source": []
  }
 ],
 "metadata": {
  "kernelspec": {
   "display_name": "Python 3",
   "language": "python",
   "name": "python3"
  },
  "language_info": {
   "codemirror_mode": {
    "name": "ipython",
    "version": 3
   },
   "file_extension": ".py",
   "mimetype": "text/x-python",
   "name": "python",
   "nbconvert_exporter": "python",
   "pygments_lexer": "ipython3",
   "version": "3.6.5"
  }
 },
 "nbformat": 4,
 "nbformat_minor": 2
}
